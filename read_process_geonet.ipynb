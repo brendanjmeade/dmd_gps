{
 "cells": [
  {
   "cell_type": "code",
   "execution_count": 14,
   "metadata": {},
   "outputs": [],
   "source": [
    "import datetime\n",
    "import numpy as np\n",
    "import matplotlib.pyplot as plt\n",
    "import pydmd as dmd\n",
    "import h5py\n",
    "from scipy.interpolate import griddata\n",
    "from scipy import stats"
   ]
  },
  {
   "cell_type": "code",
   "execution_count": 11,
   "metadata": {},
   "outputs": [],
   "source": [
    "with h5py.File('GeonetPosArray1996-2018.mat', 'r') as file:\n",
    "    data = {}\n",
    "    data[\"date\"] = np.array(file[\"sdate\"]).T\n",
    "    data[\"day\"] = np.array(file[\"sday\"]).T\n",
    "    data[\"hgt\"] = np.array(file[\"shgt\"]).T\n",
    "    data[\"lat\"] = np.array(file[\"slat\"]).T\n",
    "    data[\"lon\"] = np.array(file[\"slon\"]).T\n",
    "    data[\"month\"] = np.array(file[\"smonth\"]).T\n",
    "    data[\"name\"] = np.array(file[\"sname\"]).T\n",
    "    data[\"x\"] = np.array(file[\"sx\"]).T\n",
    "    data[\"y\"] = np.array(file[\"sy\"]).T\n",
    "    data[\"year\"] = np.array(file[\"syear\"]).T\n",
    "    data[\"z\"] = np.array(file[\"sz\"]).T\n",
    "\n",
    "n_stations, n_times = data[\"date\"].shape\n",
    "time_idx = 4000"
   ]
  },
  {
   "cell_type": "code",
   "execution_count": 12,
   "metadata": {},
   "outputs": [],
   "source": [
    "def show_grids(data):\n",
    "    for key in data.keys():\n",
    "        if key != \"name\":\n",
    "            plt.matshow(data[key])\n",
    "            plt.title(key)"
   ]
  },
  {
   "cell_type": "code",
   "execution_count": 21,
   "metadata": {},
   "outputs": [],
   "source": [
    "# Interpolate data onto regular grid\n",
    "n_bins = 30\n",
    "lon_min = 125.0\n",
    "lon_max = 150.0\n",
    "lat_min = 30.0\n",
    "lat_max = 50.0\n",
    "lon_vec = np.linspace(lon_min, lon_max, n_bins)\n",
    "lat_vec = np.linspace(lat_min, lat_max, n_bins)"
   ]
  },
  {
   "cell_type": "code",
   "execution_count": 30,
   "metadata": {},
   "outputs": [
    {
     "data": {
      "text/plain": [
       "<matplotlib.image.AxesImage at 0x1a123b4eb8>"
      ]
     },
     "execution_count": 30,
     "metadata": {},
     "output_type": "execute_result"
    },
    {
     "data": {
      "image/png": "[encoded data removed]",
      "text/plain": [
       "<Figure size 288x288 with 1 Axes>"
      ]
     },
     "metadata": {},
     "output_type": "display_data"
    }
   ],
   "source": [
    "def plot_grid(field, time_idx):\n",
    "    lon = data[\"lon\"][:, time_idx]\n",
    "    lat = data[\"lat\"][:, time_idx]\n",
    "    values = data[\"y\"][:, time_idx]\n",
    "    return stats.binned_statistic_2d(lon, lat, values, 'mean', bins=[lon_vec, lat_vec])[0]\n",
    "    \n",
    "grid1 = plot_grid(\"y\", 5000)\n",
    "grid2 = plot_grid(\"y\", 5001)\n",
    "plt.matshow(np.rot90(grid1 - grid2))"
   ]
  },
  {
   "cell_type": "code",
   "execution_count": 31,
   "metadata": {},
   "outputs": [
    {
     "data": {
      "text/plain": [
       "[<matplotlib.lines.Line2D at 0x1a12490668>]"
      ]
     },
     "execution_count": 31,
     "metadata": {},
     "output_type": "execute_result"
    },
    {
     "data": {
      "image/png": "[encoded data removed]",
      "text/plain": [
       "<Figure size 432x288 with 1 Axes>"
      ]
     },
     "metadata": {},
     "output_type": "display_data"
    }
   ],
   "source": [
    "plt.plot(grid1.flatten()-grid2.flatten(), \".r\")"
   ]
  },
  {
   "cell_type": "code",
   "execution_count": null,
   "metadata": {},
   "outputs": [],
   "source": []
  }
 ],
 "metadata": {
  "kernelspec": {
   "display_name": "Python 3",
   "language": "python",
   "name": "python3"
  },
  "language_info": {
   "codemirror_mode": {
    "name": "ipython",
    "version": 3
   },
   "file_extension": ".py",
   "mimetype": "text/x-python",
   "name": "python",
   "nbconvert_exporter": "python",
   "pygments_lexer": "ipython3",
   "version": "3.6.5"
  }
 },
 "nbformat": 4,
 "nbformat_minor": 2
}
